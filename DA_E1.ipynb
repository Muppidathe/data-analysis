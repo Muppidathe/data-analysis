{
  "nbformat": 4,
  "nbformat_minor": 0,
  "metadata": {
    "colab": {
      "provenance": [],
      "include_colab_link": true
    },
    "kernelspec": {
      "name": "python3",
      "display_name": "Python 3"
    },
    "language_info": {
      "name": "python"
    }
  },
  "cells": [
    {
      "cell_type": "markdown",
      "metadata": {
        "id": "view-in-github",
        "colab_type": "text"
      },
      "source": [
        "<a href=\"https://colab.research.google.com/github/Muppidathe/data-analysis/blob/main/DA_E1.ipynb\" target=\"_parent\"><img src=\"https://colab.research.google.com/assets/colab-badge.svg\" alt=\"Open In Colab\"/></a>"
      ]
    },
    {
      "cell_type": "code",
      "source": [
        "import numpy as np"
      ],
      "metadata": {
        "id": "lWl3dYLpyNu8"
      },
      "execution_count": null,
      "outputs": []
    },
    {
      "cell_type": "code",
      "source": [
        "#it is an inbuilt variable used to return current version of numpy package.\n",
        "np.__version__"
      ],
      "metadata": {
        "colab": {
          "base_uri": "https://localhost:8080/",
          "height": 36
        },
        "id": "GbcOCiPvyUTe",
        "outputId": "6a09cfce-d12e-46ad-a600-690493045281"
      },
      "execution_count": null,
      "outputs": [
        {
          "output_type": "execute_result",
          "data": {
            "text/plain": [
              "'1.26.4'"
            ],
            "application/vnd.google.colaboratory.intrinsic+json": {
              "type": "string"
            }
          },
          "metadata": {},
          "execution_count": 3
        }
      ]
    },
    {
      "cell_type": "code",
      "source": [
        "#array() is an inbuilt function used to create arrays.\n",
        "l=[10,20,30,40,60]\n",
        "print(type(l))\n",
        "a=np.array(l)\n",
        "print(a)\n",
        "type(a)"
      ],
      "metadata": {
        "colab": {
          "base_uri": "https://localhost:8080/"
        },
        "id": "1ouJlfee0CLI",
        "outputId": "8d34f799-bc92-4ad9-cb6c-05f0670281dc"
      },
      "execution_count": null,
      "outputs": [
        {
          "output_type": "stream",
          "name": "stdout",
          "text": [
            "<class 'list'>\n",
            "[10 20 30 40 60]\n"
          ]
        },
        {
          "output_type": "execute_result",
          "data": {
            "text/plain": [
              "numpy.ndarray"
            ]
          },
          "metadata": {},
          "execution_count": 4
        }
      ]
    },
    {
      "cell_type": "code",
      "source": [
        "arr=np.array([10,700,890,3+4j,'hii',{'a':100,'b':200}])\n",
        "arr"
      ],
      "metadata": {
        "colab": {
          "base_uri": "https://localhost:8080/"
        },
        "id": "ZD0rMoFX1Zwp",
        "outputId": "0db09826-b67d-4f56-bdf3-db95baec1505"
      },
      "execution_count": null,
      "outputs": [
        {
          "output_type": "execute_result",
          "data": {
            "text/plain": [
              "array([10, 700, 890, (3+4j), 'hii', {'a': 100, 'b': 200}], dtype=object)"
            ]
          },
          "metadata": {},
          "execution_count": 5
        }
      ]
    },
    {
      "cell_type": "code",
      "source": [
        "#dtype is an inbuilt var which is used to check the data type of individual element in an array.\n",
        "arr1=np.array([100,True,4.56,4+5j,'hi',{1,2,3}])\n",
        "print(arr1)\n",
        "arr1.dtype\n",
        "\n",
        "len(arr1)"
      ],
      "metadata": {
        "colab": {
          "base_uri": "https://localhost:8080/"
        },
        "id": "_ONJHxM95zWm",
        "outputId": "9c2b104c-29ec-40ba-c2ce-7220f93ab9f7"
      },
      "execution_count": null,
      "outputs": [
        {
          "output_type": "stream",
          "name": "stdout",
          "text": [
            "[100 True 4.56 (4+5j) 'hi' {1, 2, 3}]\n"
          ]
        },
        {
          "output_type": "execute_result",
          "data": {
            "text/plain": [
              "6"
            ]
          },
          "metadata": {},
          "execution_count": 6
        }
      ]
    },
    {
      "cell_type": "code",
      "source": [
        "#uni dim array\n",
        "arr1=np.array([100,True,4.56,4+5j,'hi',{1,2,3}])\n",
        "arr1"
      ],
      "metadata": {
        "colab": {
          "base_uri": "https://localhost:8080/"
        },
        "id": "g4lxRpAa8tmt",
        "outputId": "f14429e9-8668-42ad-9c88-8ea6b1bc973e"
      },
      "execution_count": null,
      "outputs": [
        {
          "output_type": "execute_result",
          "data": {
            "text/plain": [
              "array([100, True, 4.56, (4+5j), 'hi', {1, 2, 3}], dtype=object)"
            ]
          },
          "metadata": {},
          "execution_count": 7
        }
      ]
    },
    {
      "cell_type": "code",
      "source": [
        "#bi dim array\n",
        "a=[[1,2,3],\n",
        "   [4,5,6]]\n",
        "\n",
        "b=np.array(a)"
      ],
      "metadata": {
        "id": "JL5if9zd8yu0"
      },
      "execution_count": null,
      "outputs": []
    },
    {
      "cell_type": "code",
      "source": [
        "#multi dim array\n",
        "l=[[[1,2,3],\n",
        "    [10,11,12],\n",
        "    [89,90,78]]]\n",
        "c=np.array(l)"
      ],
      "metadata": {
        "id": "6rRxTvM79erl"
      },
      "execution_count": null,
      "outputs": []
    },
    {
      "cell_type": "code",
      "source": [
        "arr1.ndim\n",
        "b.ndim\n",
        "c.ndim"
      ],
      "metadata": {
        "colab": {
          "base_uri": "https://localhost:8080/"
        },
        "id": "MQKTW_3M9-Wj",
        "outputId": "da4f323a-bfe5-4756-866a-591a1d325204"
      },
      "execution_count": null,
      "outputs": [
        {
          "output_type": "execute_result",
          "data": {
            "text/plain": [
              "3"
            ]
          },
          "metadata": {},
          "execution_count": 10
        }
      ]
    },
    {
      "cell_type": "code",
      "source": [
        "a=[10,4.56,789,90+3j,'100',{1,2,3},{'a':100}]\n",
        "arr=np.array(a)\n",
        "print(arr)\n",
        "arr.dtype"
      ],
      "metadata": {
        "colab": {
          "base_uri": "https://localhost:8080/"
        },
        "id": "IKJap0yhuUA8",
        "outputId": "1aa0ea3d-7c9d-4964-fea3-d6a6e6a95661"
      },
      "execution_count": null,
      "outputs": [
        {
          "output_type": "stream",
          "name": "stdout",
          "text": [
            "[10 4.56 789 (90+3j) '100' {1, 2, 3} {'a': 100}]\n"
          ]
        },
        {
          "output_type": "execute_result",
          "data": {
            "text/plain": [
              "dtype('O')"
            ]
          },
          "metadata": {},
          "execution_count": 19
        }
      ]
    },
    {
      "cell_type": "code",
      "source": [
        "#uni\n",
        "a=np.array([12,5.6,78,900])\n",
        "print(a)\n",
        "a.ndim"
      ],
      "metadata": {
        "colab": {
          "base_uri": "https://localhost:8080/"
        },
        "id": "e556fxNBvSKJ",
        "outputId": "0a61a632-95f0-4d90-9c97-db5f3d21b087"
      },
      "execution_count": null,
      "outputs": [
        {
          "output_type": "stream",
          "name": "stdout",
          "text": [
            "[ 12.    5.6  78.  900. ]\n"
          ]
        },
        {
          "output_type": "execute_result",
          "data": {
            "text/plain": [
              "1"
            ]
          },
          "metadata": {},
          "execution_count": 21
        }
      ]
    },
    {
      "cell_type": "code",
      "source": [
        "#bi dim\n",
        "b=np.array()"
      ],
      "metadata": {
        "id": "Ennhv-TMvs-6"
      },
      "execution_count": null,
      "outputs": []
    }
  ]
}